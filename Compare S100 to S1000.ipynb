{
 "cells": [
  {
   "cell_type": "code",
   "execution_count": 1,
   "metadata": {},
   "outputs": [],
   "source": [
    "using CSV"
   ]
  },
  {
   "cell_type": "code",
   "execution_count": 2,
   "metadata": {},
   "outputs": [
    {
     "data": {
      "text/html": [
       "<table class=\"data-frame\"><thead><tr><th></th><th>country_names</th><th>actual</th><th>kappa1972</th><th>nosectoral</th><th>nosectoral_kappa1972</th><th>trade_barriers</th><th>diversification</th><th>specialization</th></tr></thead><tbody><tr><th>1</th><td>Australia</td><td>0.00102731</td><td>0.00101085</td><td>0.00100792</td><td>0.00103229</td><td>1.62848</td><td>-2.41104</td><td>4.03952</td></tr><tr><th>2</th><td>Austria</td><td>0.000448942</td><td>0.000749953</td><td>0.000610512</td><td>0.00105575</td><td>-40.1374</td><td>-59.3693</td><td>19.2319</td></tr><tr><th>3</th><td>Belgium and Luxembourg</td><td>0.000956654</td><td>0.0019904</td><td>0.000806938</td><td>0.00307711</td><td>-51.9366</td><td>-114.056</td><td>62.1197</td></tr><tr><th>4</th><td>Canada</td><td>0.000580622</td><td>0.00146688</td><td>0.000867451</td><td>0.00213453</td><td>-60.4178</td><td>-86.3795</td><td>25.9617</td></tr><tr><th>5</th><td>China</td><td>0.00635878</td><td>0.0062962</td><td>0.00729658</td><td>0.00726744</td><td>0.993999</td><td>0.462775</td><td>0.531224</td></tr><tr><th>6</th><td>Colombia</td><td>0.0011727</td><td>0.00149568</td><td>0.00177203</td><td>0.00224074</td><td>-21.5942</td><td>-31.337</td><td>9.74273</td></tr><tr><th>7</th><td>Denmark</td><td>0.00060931</td><td>0.00180307</td><td>0.000339229</td><td>0.00114769</td><td>-66.2071</td><td>-44.838</td><td>-21.3692</td></tr><tr><th>8</th><td>Finland</td><td>0.000701766</td><td>0.000966336</td><td>0.000894335</td><td>0.00147698</td><td>-27.3787</td><td>-60.2945</td><td>32.9158</td></tr><tr><th>9</th><td>France</td><td>0.000300869</td><td>0.000361041</td><td>0.000251809</td><td>0.000235417</td><td>-16.6664</td><td>4.5402</td><td>-21.2066</td></tr><tr><th>10</th><td>Germany</td><td>0.000342297</td><td>0.000477445</td><td>0.000259579</td><td>0.000397306</td><td>-28.3066</td><td>-28.8466</td><td>0.540033</td></tr><tr><th>11</th><td>Greece</td><td>0.000324856</td><td>0.000346199</td><td>0.000437753</td><td>0.000464931</td><td>-6.16481</td><td>-7.85051</td><td>1.68569</td></tr><tr><th>12</th><td>India</td><td>0.00111202</td><td>0.00124568</td><td>0.00100323</td><td>0.00114604</td><td>-10.7297</td><td>-11.4641</td><td>0.734404</td></tr><tr><th>13</th><td>Ireland</td><td>0.00111191</td><td>0.00293865</td><td>0.00201201</td><td>0.0037344</td><td>-62.1627</td><td>-58.6117</td><td>-3.55097</td></tr><tr><th>14</th><td>Italy</td><td>0.000275643</td><td>0.000322983</td><td>0.000147162</td><td>0.000132899</td><td>-14.6572</td><td>4.41629</td><td>-19.0735</td></tr><tr><th>15</th><td>Japan</td><td>0.000357331</td><td>0.000356824</td><td>0.000218987</td><td>0.000219644</td><td>0.142215</td><td>-0.183948</td><td>0.326163</td></tr><tr><th>16</th><td>Mexico</td><td>0.00107037</td><td>0.00220806</td><td>0.00433985</td><td>0.00644243</td><td>-51.5241</td><td>-95.2234</td><td>43.6993</td></tr><tr><th>17</th><td>Netherlands</td><td>0.000431425</td><td>0.000835448</td><td>0.000599513</td><td>0.00177038</td><td>-48.3601</td><td>-140.148</td><td>91.7881</td></tr><tr><th>18</th><td>Norway</td><td>0.000933712</td><td>0.0014215</td><td>0.00183679</td><td>0.00294118</td><td>-34.3149</td><td>-77.6919</td><td>43.377</td></tr><tr><th>19</th><td>Portugal</td><td>0.00153089</td><td>0.00147062</td><td>0.00172351</td><td>0.00219748</td><td>4.09803</td><td>-32.2292</td><td>36.3272</td></tr><tr><th>20</th><td>ROW</td><td>0.00175984</td><td>0.00176349</td><td>0.00226629</td><td>0.00229391</td><td>-0.20721</td><td>-1.5662</td><td>1.35899</td></tr><tr><th>21</th><td>South Korea</td><td>0.000904944</td><td>0.000964024</td><td>0.000717621</td><td>0.000880558</td><td>-6.12847</td><td>-16.9018</td><td>10.7733</td></tr><tr><th>22</th><td>Spain</td><td>0.000316272</td><td>0.000691076</td><td>0.00027709</td><td>0.000453823</td><td>-54.2349</td><td>-25.5735</td><td>-28.6613</td></tr><tr><th>23</th><td>Sweden</td><td>0.000412975</td><td>0.000628068</td><td>0.000426667</td><td>0.000663138</td><td>-34.2468</td><td>-37.6506</td><td>3.40381</td></tr><tr><th>24</th><td>United Kingdom</td><td>0.000291712</td><td>0.000516546</td><td>0.000216151</td><td>0.00035838</td><td>-43.5264</td><td>-27.5346</td><td>-15.9918</td></tr><tr><th>25</th><td>United States</td><td>0.000350357</td><td>0.000353097</td><td>0.000310655</td><td>0.000305358</td><td>-0.776093</td><td>1.50006</td><td>-2.27615</td></tr></tbody></table>"
      ],
      "text/plain": [
       "25×8 DataFrames.DataFrame. Omitted printing of 4 columns\n",
       "│ Row │ country_names          │ actual      │ kappa1972   │ nosectoral  │\n",
       "├─────┼────────────────────────┼─────────────┼─────────────┼─────────────┤\n",
       "│ 1   │ Australia              │ 0.00102731  │ 0.00101085  │ 0.00100792  │\n",
       "│ 2   │ Austria                │ 0.000448942 │ 0.000749953 │ 0.000610512 │\n",
       "│ 3   │ Belgium and Luxembourg │ 0.000956654 │ 0.0019904   │ 0.000806938 │\n",
       "│ 4   │ Canada                 │ 0.000580622 │ 0.00146688  │ 0.000867451 │\n",
       "│ 5   │ China                  │ 0.00635878  │ 0.0062962   │ 0.00729658  │\n",
       "│ 6   │ Colombia               │ 0.0011727   │ 0.00149568  │ 0.00177203  │\n",
       "│ 7   │ Denmark                │ 0.00060931  │ 0.00180307  │ 0.000339229 │\n",
       "│ 8   │ Finland                │ 0.000701766 │ 0.000966336 │ 0.000894335 │\n",
       "│ 9   │ France                 │ 0.000300869 │ 0.000361041 │ 0.000251809 │\n",
       "│ 10  │ Germany                │ 0.000342297 │ 0.000477445 │ 0.000259579 │\n",
       "│ 11  │ Greece                 │ 0.000324856 │ 0.000346199 │ 0.000437753 │\n",
       "│ 12  │ India                  │ 0.00111202  │ 0.00124568  │ 0.00100323  │\n",
       "│ 13  │ Ireland                │ 0.00111191  │ 0.00293865  │ 0.00201201  │\n",
       "│ 14  │ Italy                  │ 0.000275643 │ 0.000322983 │ 0.000147162 │\n",
       "│ 15  │ Japan                  │ 0.000357331 │ 0.000356824 │ 0.000218987 │\n",
       "│ 16  │ Mexico                 │ 0.00107037  │ 0.00220806  │ 0.00433985  │\n",
       "│ 17  │ Netherlands            │ 0.000431425 │ 0.000835448 │ 0.000599513 │\n",
       "│ 18  │ Norway                 │ 0.000933712 │ 0.0014215   │ 0.00183679  │\n",
       "│ 19  │ Portugal               │ 0.00153089  │ 0.00147062  │ 0.00172351  │\n",
       "│ 20  │ ROW                    │ 0.00175984  │ 0.00176349  │ 0.00226629  │\n",
       "│ 21  │ South Korea            │ 0.000904944 │ 0.000964024 │ 0.000717621 │\n",
       "│ 22  │ Spain                  │ 0.000316272 │ 0.000691076 │ 0.00027709  │\n",
       "│ 23  │ Sweden                 │ 0.000412975 │ 0.000628068 │ 0.000426667 │\n",
       "│ 24  │ United Kingdom         │ 0.000291712 │ 0.000516546 │ 0.000216151 │\n",
       "│ 25  │ United States          │ 0.000350357 │ 0.000353097 │ 0.000310655 │"
      ]
     },
     "execution_count": 2,
     "metadata": {},
     "output_type": "execute_result"
    }
   ],
   "source": [
    "S100 = CSV.read(\"experiments/baseline/output_table.csv\")"
   ]
  },
  {
   "cell_type": "code",
   "execution_count": 3,
   "metadata": {},
   "outputs": [
    {
     "data": {
      "text/html": [
       "<table class=\"data-frame\"><thead><tr><th></th><th>country_names</th><th>actual</th><th>kappa1972</th><th>nosectoral</th><th>nosectoral_kappa1972</th><th>trade_barriers</th><th>diversification</th><th>specialization</th></tr></thead><tbody><tr><th>1</th><td>Australia</td><td>0.00102641</td><td>0.00101149</td><td>0.00100813</td><td>0.00103222</td><td>1.47481</td><td>-2.38151</td><td>3.85632</td></tr><tr><th>2</th><td>Austria</td><td>0.000442543</td><td>0.000723594</td><td>0.000610656</td><td>0.00105601</td><td>-38.841</td><td>-61.5469</td><td>22.7059</td></tr><tr><th>3</th><td>Belgium and Luxembourg</td><td>0.000908431</td><td>0.00200047</td><td>0.000806606</td><td>0.00307889</td><td>-54.589</td><td>-113.588</td><td>58.9989</td></tr><tr><th>4</th><td>Canada</td><td>0.000578889</td><td>0.00146117</td><td>0.000867266</td><td>0.00213476</td><td>-60.3819</td><td>-86.7448</td><td>26.3628</td></tr><tr><th>5</th><td>China</td><td>0.00637033</td><td>0.00629581</td><td>0.00729689</td><td>0.00726878</td><td>1.18367</td><td>0.446396</td><td>0.737278</td></tr><tr><th>6</th><td>Colombia</td><td>0.00116738</td><td>0.00149358</td><td>0.00177221</td><td>0.00223942</td><td>-21.8405</td><td>-31.2811</td><td>9.44058</td></tr><tr><th>7</th><td>Denmark</td><td>0.00060858</td><td>0.00176769</td><td>0.000339283</td><td>0.00114805</td><td>-65.572</td><td>-45.7527</td><td>-19.8194</td></tr><tr><th>8</th><td>Finland</td><td>0.000736774</td><td>0.000969316</td><td>0.000894472</td><td>0.00147727</td><td>-23.9903</td><td>-60.1249</td><td>36.1346</td></tr><tr><th>9</th><td>France</td><td>0.000302563</td><td>0.000362124</td><td>0.000251779</td><td>0.000235379</td><td>-16.4477</td><td>4.52893</td><td>-20.9766</td></tr><tr><th>10</th><td>Germany</td><td>0.000342714</td><td>0.000476827</td><td>0.000259472</td><td>0.000397512</td><td>-28.1261</td><td>-28.9496</td><td>0.823501</td></tr><tr><th>11</th><td>Greece</td><td>0.000324611</td><td>0.000345386</td><td>0.000437758</td><td>0.000464465</td><td>-6.01514</td><td>-7.73244</td><td>1.7173</td></tr><tr><th>12</th><td>India</td><td>0.00111009</td><td>0.00124236</td><td>0.0010031</td><td>0.00114611</td><td>-10.647</td><td>-11.5112</td><td>0.864172</td></tr><tr><th>13</th><td>Ireland</td><td>0.00109036</td><td>0.00287322</td><td>0.00201213</td><td>0.00373578</td><td>-62.0511</td><td>-59.9905</td><td>-2.06051</td></tr><tr><th>14</th><td>Italy</td><td>0.000276965</td><td>0.000322987</td><td>0.000147156</td><td>0.000132878</td><td>-14.2489</td><td>4.42077</td><td>-18.6696</td></tr><tr><th>15</th><td>Japan</td><td>0.000358634</td><td>0.000357965</td><td>0.000219033</td><td>0.000219914</td><td>0.186902</td><td>-0.245987</td><td>0.432889</td></tr><tr><th>16</th><td>Mexico</td><td>0.00107622</td><td>0.00219945</td><td>0.00433891</td><td>0.00643342</td><td>-51.0688</td><td>-95.2287</td><td>44.16</td></tr><tr><th>17</th><td>Netherlands</td><td>0.000427031</td><td>0.000825752</td><td>0.000599286</td><td>0.0017705</td><td>-48.2858</td><td>-141.836</td><td>93.5502</td></tr><tr><th>18</th><td>Norway</td><td>0.000947265</td><td>0.0014136</td><td>0.00183644</td><td>0.00294036</td><td>-32.9894</td><td>-78.0924</td><td>45.103</td></tr><tr><th>19</th><td>Portugal</td><td>0.00154755</td><td>0.0014746</td><td>0.00172424</td><td>0.00219797</td><td>4.94685</td><td>-32.1258</td><td>37.0727</td></tr><tr><th>20</th><td>ROW</td><td>0.00175765</td><td>0.00176286</td><td>0.00226595</td><td>0.00229338</td><td>-0.295448</td><td>-1.55606</td><td>1.26061</td></tr><tr><th>21</th><td>South Korea</td><td>0.000902328</td><td>0.000963548</td><td>0.000717484</td><td>0.00087999</td><td>-6.3536</td><td>-16.8654</td><td>10.5118</td></tr><tr><th>22</th><td>Spain</td><td>0.000317065</td><td>0.000690941</td><td>0.000277101</td><td>0.0004537</td><td>-54.1111</td><td>-25.5592</td><td>-28.5519</td></tr><tr><th>23</th><td>Sweden</td><td>0.000415423</td><td>0.000627397</td><td>0.000426597</td><td>0.000662969</td><td>-33.7863</td><td>-37.6751</td><td>3.88875</td></tr><tr><th>24</th><td>United Kingdom</td><td>0.00029316</td><td>0.000517522</td><td>0.000216061</td><td>0.000358197</td><td>-43.3532</td><td>-27.4647</td><td>-15.8884</td></tr><tr><th>25</th><td>United States</td><td>0.000352085</td><td>0.000353979</td><td>0.000310641</td><td>0.000305413</td><td>-0.535299</td><td>1.4771</td><td>-2.0124</td></tr></tbody></table>"
      ],
      "text/plain": [
       "25×8 DataFrames.DataFrame. Omitted printing of 4 columns\n",
       "│ Row │ country_names          │ actual      │ kappa1972   │ nosectoral  │\n",
       "├─────┼────────────────────────┼─────────────┼─────────────┼─────────────┤\n",
       "│ 1   │ Australia              │ 0.00102641  │ 0.00101149  │ 0.00100813  │\n",
       "│ 2   │ Austria                │ 0.000442543 │ 0.000723594 │ 0.000610656 │\n",
       "│ 3   │ Belgium and Luxembourg │ 0.000908431 │ 0.00200047  │ 0.000806606 │\n",
       "│ 4   │ Canada                 │ 0.000578889 │ 0.00146117  │ 0.000867266 │\n",
       "│ 5   │ China                  │ 0.00637033  │ 0.00629581  │ 0.00729689  │\n",
       "│ 6   │ Colombia               │ 0.00116738  │ 0.00149358  │ 0.00177221  │\n",
       "│ 7   │ Denmark                │ 0.00060858  │ 0.00176769  │ 0.000339283 │\n",
       "│ 8   │ Finland                │ 0.000736774 │ 0.000969316 │ 0.000894472 │\n",
       "│ 9   │ France                 │ 0.000302563 │ 0.000362124 │ 0.000251779 │\n",
       "│ 10  │ Germany                │ 0.000342714 │ 0.000476827 │ 0.000259472 │\n",
       "│ 11  │ Greece                 │ 0.000324611 │ 0.000345386 │ 0.000437758 │\n",
       "│ 12  │ India                  │ 0.00111009  │ 0.00124236  │ 0.0010031   │\n",
       "│ 13  │ Ireland                │ 0.00109036  │ 0.00287322  │ 0.00201213  │\n",
       "│ 14  │ Italy                  │ 0.000276965 │ 0.000322987 │ 0.000147156 │\n",
       "│ 15  │ Japan                  │ 0.000358634 │ 0.000357965 │ 0.000219033 │\n",
       "│ 16  │ Mexico                 │ 0.00107622  │ 0.00219945  │ 0.00433891  │\n",
       "│ 17  │ Netherlands            │ 0.000427031 │ 0.000825752 │ 0.000599286 │\n",
       "│ 18  │ Norway                 │ 0.000947265 │ 0.0014136   │ 0.00183644  │\n",
       "│ 19  │ Portugal               │ 0.00154755  │ 0.0014746   │ 0.00172424  │\n",
       "│ 20  │ ROW                    │ 0.00175765  │ 0.00176286  │ 0.00226595  │\n",
       "│ 21  │ South Korea            │ 0.000902328 │ 0.000963548 │ 0.000717484 │\n",
       "│ 22  │ Spain                  │ 0.000317065 │ 0.000690941 │ 0.000277101 │\n",
       "│ 23  │ Sweden                 │ 0.000415423 │ 0.000627397 │ 0.000426597 │\n",
       "│ 24  │ United Kingdom         │ 0.00029316  │ 0.000517522 │ 0.000216061 │\n",
       "│ 25  │ United States          │ 0.000352085 │ 0.000353979 │ 0.000310641 │"
      ]
     },
     "execution_count": 3,
     "metadata": {},
     "output_type": "execute_result"
    }
   ],
   "source": [
    "S1000 = CSV.read(\"experiments/S1000/output_table.csv\")"
   ]
  },
  {
   "cell_type": "code",
   "execution_count": 7,
   "metadata": {},
   "outputs": [
    {
     "data": {
      "text/plain": [
       "25-element Array{Float64,1}:\n",
       " 0.0882583\n",
       " 1.42531  \n",
       " 5.04081  \n",
       " 0.298491 \n",
       " 0.181631 \n",
       " 0.454158 \n",
       " 0.119937 \n",
       " 4.98853  \n",
       " 0.563272 \n",
       " 0.122062 \n",
       " 0.0756458\n",
       " 0.173774 \n",
       " 1.93808  \n",
       " 0.479583 \n",
       " 0.364503 \n",
       " 0.546102 \n",
       " 1.01841  \n",
       " 1.45153  \n",
       " 1.08792  \n",
       " 0.124351 \n",
       " 0.289132 \n",
       " 0.250688 \n",
       " 0.592726 \n",
       " 0.496206 \n",
       " 0.493137 "
      ]
     },
     "execution_count": 7,
     "metadata": {},
     "output_type": "execute_result"
    }
   ],
   "source": [
    "percentage_absolute_difference = 100*abs.(S100[:actual] .- S1000[:actual]) ./ S100[:actual]"
   ]
  },
  {
   "cell_type": "code",
   "execution_count": 8,
   "metadata": {},
   "outputs": [
    {
     "data": {
      "text/plain": [
       "0.906569632471969"
      ]
     },
     "execution_count": 8,
     "metadata": {},
     "output_type": "execute_result"
    }
   ],
   "source": [
    "mean(percentage_absolute_difference)"
   ]
  },
  {
   "cell_type": "code",
   "execution_count": null,
   "metadata": {},
   "outputs": [],
   "source": []
  }
 ],
 "metadata": {
  "kernelspec": {
   "display_name": "Julia 0.6.4",
   "language": "julia",
   "name": "julia-0.6"
  },
  "language_info": {
   "file_extension": ".jl",
   "mimetype": "application/julia",
   "name": "julia",
   "version": "0.6.4"
  }
 },
 "nbformat": 4,
 "nbformat_minor": 2
}
