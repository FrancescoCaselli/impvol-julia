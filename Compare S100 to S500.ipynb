{
 "cells": [
  {
   "cell_type": "code",
   "execution_count": 1,
   "metadata": {},
   "outputs": [],
   "source": [
    "using CSV"
   ]
  },
  {
   "cell_type": "code",
   "execution_count": 2,
   "metadata": {
    "scrolled": true
   },
   "outputs": [
    {
     "data": {
      "text/html": [
       "<table class=\"data-frame\"><thead><tr><th></th><th>country_names</th><th>actual</th><th>kappa1972</th><th>nosectoral</th><th>nosectoral_kappa1972</th><th>trade_barriers</th><th>diversification</th><th>specialization</th></tr></thead><tbody><tr><th>1</th><td>Australia</td><td>0.00102553</td><td>0.00101167</td><td>0.00100631</td><td>0.00103298</td><td>1.37001</td><td>-2.63562</td><td>4.00563</td></tr><tr><th>2</th><td>Austria</td><td>0.000429356</td><td>0.000717417</td><td>0.000611056</td><td>0.00105729</td><td>-40.1524</td><td>-62.2004</td><td>22.0479</td></tr><tr><th>3</th><td>Belgium and Luxembourg</td><td>0.000943004</td><td>0.00201603</td><td>0.000806899</td><td>0.00308092</td><td>-53.2248</td><td>-112.797</td><td>59.5721</td></tr><tr><th>4</th><td>Canada</td><td>0.000576035</td><td>0.00146098</td><td>0.000868106</td><td>0.00213497</td><td>-60.5719</td><td>-86.7134</td><td>26.1415</td></tr><tr><th>5</th><td>China</td><td>0.0063838</td><td>0.00629721</td><td>0.0072974</td><td>0.0072669</td><td>1.37507</td><td>0.484211</td><td>0.890862</td></tr><tr><th>6</th><td>Colombia</td><td>0.00116857</td><td>0.00148907</td><td>0.00176447</td><td>0.00224159</td><td>-21.5234</td><td>-32.0415</td><td>10.5181</td></tr><tr><th>7</th><td>Denmark</td><td>0.000617263</td><td>0.00178874</td><td>0.000339129</td><td>0.00115228</td><td>-65.4918</td><td>-45.4591</td><td>-20.0327</td></tr><tr><th>8</th><td>Finland</td><td>0.000725625</td><td>0.000969037</td><td>0.000894519</td><td>0.00147715</td><td>-25.119</td><td>-60.1252</td><td>35.0063</td></tr><tr><th>9</th><td>France</td><td>0.000300685</td><td>0.000361344</td><td>0.000251766</td><td>0.000235357</td><td>-16.7872</td><td>4.54134</td><td>-21.3286</td></tr><tr><th>10</th><td>Germany</td><td>0.000342584</td><td>0.000478399</td><td>0.00025976</td><td>0.000397712</td><td>-28.3894</td><td>-28.8363</td><td>0.446818</td></tr><tr><th>11</th><td>Greece</td><td>0.000326093</td><td>0.000347038</td><td>0.000438302</td><td>0.000464509</td><td>-6.03543</td><td>-7.55182</td><td>1.51639</td></tr><tr><th>12</th><td>India</td><td>0.00111104</td><td>0.00124339</td><td>0.00100404</td><td>0.00114494</td><td>-10.6447</td><td>-11.3324</td><td>0.687611</td></tr><tr><th>13</th><td>Ireland</td><td>0.00115356</td><td>0.00290583</td><td>0.00201315</td><td>0.0037368</td><td>-60.3019</td><td>-59.3169</td><td>-0.985048</td></tr><tr><th>14</th><td>Italy</td><td>0.000275423</td><td>0.000322884</td><td>0.000147201</td><td>0.000132963</td><td>-14.6991</td><td>4.40942</td><td>-19.1085</td></tr><tr><th>15</th><td>Japan</td><td>0.000357184</td><td>0.000358319</td><td>0.000219267</td><td>0.000219658</td><td>-0.316599</td><td>-0.109186</td><td>-0.207414</td></tr><tr><th>16</th><td>Mexico</td><td>0.00106947</td><td>0.00220142</td><td>0.00434011</td><td>0.00642627</td><td>-51.4191</td><td>-94.7641</td><td>43.345</td></tr><tr><th>17</th><td>Netherlands</td><td>0.000428879</td><td>0.000832272</td><td>0.000600776</td><td>0.00177054</td><td>-48.4689</td><td>-140.551</td><td>92.0817</td></tr><tr><th>18</th><td>Norway</td><td>0.000943998</td><td>0.00141851</td><td>0.00183618</td><td>0.00294005</td><td>-33.4512</td><td>-77.8194</td><td>44.3682</td></tr><tr><th>19</th><td>Portugal</td><td>0.001541</td><td>0.00147433</td><td>0.00172396</td><td>0.00219939</td><td>4.52174</td><td>-32.2477</td><td>36.7694</td></tr><tr><th>20</th><td>ROW</td><td>0.00176234</td><td>0.00176385</td><td>0.0022656</td><td>0.00229586</td><td>-0.0851218</td><td>-1.71586</td><td>1.63074</td></tr><tr><th>21</th><td>South Korea</td><td>0.000901774</td><td>0.000964577</td><td>0.000717339</td><td>0.000879978</td><td>-6.51088</td><td>-16.8612</td><td>10.3503</td></tr><tr><th>22</th><td>Spain</td><td>0.000317042</td><td>0.000692017</td><td>0.000277063</td><td>0.000453806</td><td>-54.1858</td><td>-25.5404</td><td>-28.6454</td></tr><tr><th>23</th><td>Sweden</td><td>0.000415549</td><td>0.00062943</td><td>0.000426601</td><td>0.000662886</td><td>-33.9801</td><td>-37.5396</td><td>3.55954</td></tr><tr><th>24</th><td>United Kingdom</td><td>0.000290854</td><td>0.000517994</td><td>0.000216208</td><td>0.00035815</td><td>-43.8499</td><td>-27.4021</td><td>-16.4477</td></tr><tr><th>25</th><td>United States</td><td>0.000350082</td><td>0.00035355</td><td>0.000310422</td><td>0.000305417</td><td>-0.980961</td><td>1.41557</td><td>-2.39653</td></tr></tbody></table>"
      ],
      "text/plain": [
       "25×8 DataFrames.DataFrame. Omitted printing of 4 columns\n",
       "│ Row │ country_names          │ actual      │ kappa1972   │ nosectoral  │\n",
       "├─────┼────────────────────────┼─────────────┼─────────────┼─────────────┤\n",
       "│ 1   │ Australia              │ 0.00102553  │ 0.00101167  │ 0.00100631  │\n",
       "│ 2   │ Austria                │ 0.000429356 │ 0.000717417 │ 0.000611056 │\n",
       "│ 3   │ Belgium and Luxembourg │ 0.000943004 │ 0.00201603  │ 0.000806899 │\n",
       "│ 4   │ Canada                 │ 0.000576035 │ 0.00146098  │ 0.000868106 │\n",
       "│ 5   │ China                  │ 0.0063838   │ 0.00629721  │ 0.0072974   │\n",
       "│ 6   │ Colombia               │ 0.00116857  │ 0.00148907  │ 0.00176447  │\n",
       "│ 7   │ Denmark                │ 0.000617263 │ 0.00178874  │ 0.000339129 │\n",
       "│ 8   │ Finland                │ 0.000725625 │ 0.000969037 │ 0.000894519 │\n",
       "│ 9   │ France                 │ 0.000300685 │ 0.000361344 │ 0.000251766 │\n",
       "│ 10  │ Germany                │ 0.000342584 │ 0.000478399 │ 0.00025976  │\n",
       "│ 11  │ Greece                 │ 0.000326093 │ 0.000347038 │ 0.000438302 │\n",
       "│ 12  │ India                  │ 0.00111104  │ 0.00124339  │ 0.00100404  │\n",
       "│ 13  │ Ireland                │ 0.00115356  │ 0.00290583  │ 0.00201315  │\n",
       "│ 14  │ Italy                  │ 0.000275423 │ 0.000322884 │ 0.000147201 │\n",
       "│ 15  │ Japan                  │ 0.000357184 │ 0.000358319 │ 0.000219267 │\n",
       "│ 16  │ Mexico                 │ 0.00106947  │ 0.00220142  │ 0.00434011  │\n",
       "│ 17  │ Netherlands            │ 0.000428879 │ 0.000832272 │ 0.000600776 │\n",
       "│ 18  │ Norway                 │ 0.000943998 │ 0.00141851  │ 0.00183618  │\n",
       "│ 19  │ Portugal               │ 0.001541    │ 0.00147433  │ 0.00172396  │\n",
       "│ 20  │ ROW                    │ 0.00176234  │ 0.00176385  │ 0.0022656   │\n",
       "│ 21  │ South Korea            │ 0.000901774 │ 0.000964577 │ 0.000717339 │\n",
       "│ 22  │ Spain                  │ 0.000317042 │ 0.000692017 │ 0.000277063 │\n",
       "│ 23  │ Sweden                 │ 0.000415549 │ 0.00062943  │ 0.000426601 │\n",
       "│ 24  │ United Kingdom         │ 0.000290854 │ 0.000517994 │ 0.000216208 │\n",
       "│ 25  │ United States          │ 0.000350082 │ 0.00035355  │ 0.000310422 │"
      ]
     },
     "execution_count": 2,
     "metadata": {},
     "output_type": "execute_result"
    }
   ],
   "source": [
    "S100 = CSV.read(\"experiments/baseline/output_table.csv\")"
   ]
  },
  {
   "cell_type": "code",
   "execution_count": 3,
   "metadata": {
    "scrolled": true
   },
   "outputs": [
    {
     "data": {
      "text/html": [
       "<table class=\"data-frame\"><thead><tr><th></th><th>country_names</th><th>actual</th><th>kappa1972</th><th>nosectoral</th><th>nosectoral_kappa1972</th><th>trade_barriers</th><th>diversification</th><th>specialization</th></tr></thead><tbody><tr><th>1</th><td>Australia</td><td>0.00102641</td><td>0.00101149</td><td>0.00100813</td><td>0.00103222</td><td>1.47481</td><td>-2.38151</td><td>3.85632</td></tr><tr><th>2</th><td>Austria</td><td>0.000442543</td><td>0.000723594</td><td>0.000610656</td><td>0.00105601</td><td>-38.841</td><td>-61.5469</td><td>22.7059</td></tr><tr><th>3</th><td>Belgium and Luxembourg</td><td>0.000908431</td><td>0.00200047</td><td>0.000806606</td><td>0.00307889</td><td>-54.589</td><td>-113.588</td><td>58.9989</td></tr><tr><th>4</th><td>Canada</td><td>0.000578889</td><td>0.00146117</td><td>0.000867266</td><td>0.00213476</td><td>-60.3819</td><td>-86.7448</td><td>26.3628</td></tr><tr><th>5</th><td>China</td><td>0.00637033</td><td>0.00629581</td><td>0.00729689</td><td>0.00726878</td><td>1.18367</td><td>0.446396</td><td>0.737278</td></tr><tr><th>6</th><td>Colombia</td><td>0.00116738</td><td>0.00149358</td><td>0.00177221</td><td>0.00223942</td><td>-21.8405</td><td>-31.2811</td><td>9.44058</td></tr><tr><th>7</th><td>Denmark</td><td>0.00060858</td><td>0.00176769</td><td>0.000339283</td><td>0.00114805</td><td>-65.572</td><td>-45.7527</td><td>-19.8194</td></tr><tr><th>8</th><td>Finland</td><td>0.000736774</td><td>0.000969316</td><td>0.000894472</td><td>0.00147727</td><td>-23.9903</td><td>-60.1249</td><td>36.1346</td></tr><tr><th>9</th><td>France</td><td>0.000302563</td><td>0.000362124</td><td>0.000251779</td><td>0.000235379</td><td>-16.4477</td><td>4.52893</td><td>-20.9766</td></tr><tr><th>10</th><td>Germany</td><td>0.000342714</td><td>0.000476827</td><td>0.000259472</td><td>0.000397512</td><td>-28.1261</td><td>-28.9496</td><td>0.823501</td></tr><tr><th>11</th><td>Greece</td><td>0.000324611</td><td>0.000345386</td><td>0.000437758</td><td>0.000464465</td><td>-6.01514</td><td>-7.73244</td><td>1.7173</td></tr><tr><th>12</th><td>India</td><td>0.00111009</td><td>0.00124236</td><td>0.0010031</td><td>0.00114611</td><td>-10.647</td><td>-11.5112</td><td>0.864172</td></tr><tr><th>13</th><td>Ireland</td><td>0.00109036</td><td>0.00287322</td><td>0.00201213</td><td>0.00373578</td><td>-62.0511</td><td>-59.9905</td><td>-2.06051</td></tr><tr><th>14</th><td>Italy</td><td>0.000276965</td><td>0.000322987</td><td>0.000147156</td><td>0.000132878</td><td>-14.2489</td><td>4.42077</td><td>-18.6696</td></tr><tr><th>15</th><td>Japan</td><td>0.000358634</td><td>0.000357965</td><td>0.000219033</td><td>0.000219914</td><td>0.186902</td><td>-0.245987</td><td>0.432889</td></tr><tr><th>16</th><td>Mexico</td><td>0.00107622</td><td>0.00219945</td><td>0.00433891</td><td>0.00643342</td><td>-51.0688</td><td>-95.2287</td><td>44.16</td></tr><tr><th>17</th><td>Netherlands</td><td>0.000427031</td><td>0.000825752</td><td>0.000599286</td><td>0.0017705</td><td>-48.2858</td><td>-141.836</td><td>93.5502</td></tr><tr><th>18</th><td>Norway</td><td>0.000947265</td><td>0.0014136</td><td>0.00183644</td><td>0.00294036</td><td>-32.9894</td><td>-78.0924</td><td>45.103</td></tr><tr><th>19</th><td>Portugal</td><td>0.00154755</td><td>0.0014746</td><td>0.00172424</td><td>0.00219797</td><td>4.94685</td><td>-32.1258</td><td>37.0727</td></tr><tr><th>20</th><td>ROW</td><td>0.00175765</td><td>0.00176286</td><td>0.00226595</td><td>0.00229338</td><td>-0.295448</td><td>-1.55606</td><td>1.26061</td></tr><tr><th>21</th><td>South Korea</td><td>0.000902328</td><td>0.000963548</td><td>0.000717484</td><td>0.00087999</td><td>-6.3536</td><td>-16.8654</td><td>10.5118</td></tr><tr><th>22</th><td>Spain</td><td>0.000317065</td><td>0.000690941</td><td>0.000277101</td><td>0.0004537</td><td>-54.1111</td><td>-25.5592</td><td>-28.5519</td></tr><tr><th>23</th><td>Sweden</td><td>0.000415423</td><td>0.000627397</td><td>0.000426597</td><td>0.000662969</td><td>-33.7863</td><td>-37.6751</td><td>3.88875</td></tr><tr><th>24</th><td>United Kingdom</td><td>0.00029316</td><td>0.000517522</td><td>0.000216061</td><td>0.000358197</td><td>-43.3532</td><td>-27.4647</td><td>-15.8884</td></tr><tr><th>25</th><td>United States</td><td>0.000352085</td><td>0.000353979</td><td>0.000310641</td><td>0.000305413</td><td>-0.535299</td><td>1.4771</td><td>-2.0124</td></tr></tbody></table>"
      ],
      "text/plain": [
       "25×8 DataFrames.DataFrame. Omitted printing of 4 columns\n",
       "│ Row │ country_names          │ actual      │ kappa1972   │ nosectoral  │\n",
       "├─────┼────────────────────────┼─────────────┼─────────────┼─────────────┤\n",
       "│ 1   │ Australia              │ 0.00102641  │ 0.00101149  │ 0.00100813  │\n",
       "│ 2   │ Austria                │ 0.000442543 │ 0.000723594 │ 0.000610656 │\n",
       "│ 3   │ Belgium and Luxembourg │ 0.000908431 │ 0.00200047  │ 0.000806606 │\n",
       "│ 4   │ Canada                 │ 0.000578889 │ 0.00146117  │ 0.000867266 │\n",
       "│ 5   │ China                  │ 0.00637033  │ 0.00629581  │ 0.00729689  │\n",
       "│ 6   │ Colombia               │ 0.00116738  │ 0.00149358  │ 0.00177221  │\n",
       "│ 7   │ Denmark                │ 0.00060858  │ 0.00176769  │ 0.000339283 │\n",
       "│ 8   │ Finland                │ 0.000736774 │ 0.000969316 │ 0.000894472 │\n",
       "│ 9   │ France                 │ 0.000302563 │ 0.000362124 │ 0.000251779 │\n",
       "│ 10  │ Germany                │ 0.000342714 │ 0.000476827 │ 0.000259472 │\n",
       "│ 11  │ Greece                 │ 0.000324611 │ 0.000345386 │ 0.000437758 │\n",
       "│ 12  │ India                  │ 0.00111009  │ 0.00124236  │ 0.0010031   │\n",
       "│ 13  │ Ireland                │ 0.00109036  │ 0.00287322  │ 0.00201213  │\n",
       "│ 14  │ Italy                  │ 0.000276965 │ 0.000322987 │ 0.000147156 │\n",
       "│ 15  │ Japan                  │ 0.000358634 │ 0.000357965 │ 0.000219033 │\n",
       "│ 16  │ Mexico                 │ 0.00107622  │ 0.00219945  │ 0.00433891  │\n",
       "│ 17  │ Netherlands            │ 0.000427031 │ 0.000825752 │ 0.000599286 │\n",
       "│ 18  │ Norway                 │ 0.000947265 │ 0.0014136   │ 0.00183644  │\n",
       "│ 19  │ Portugal               │ 0.00154755  │ 0.0014746   │ 0.00172424  │\n",
       "│ 20  │ ROW                    │ 0.00175765  │ 0.00176286  │ 0.00226595  │\n",
       "│ 21  │ South Korea            │ 0.000902328 │ 0.000963548 │ 0.000717484 │\n",
       "│ 22  │ Spain                  │ 0.000317065 │ 0.000690941 │ 0.000277101 │\n",
       "│ 23  │ Sweden                 │ 0.000415423 │ 0.000627397 │ 0.000426597 │\n",
       "│ 24  │ United Kingdom         │ 0.00029316  │ 0.000517522 │ 0.000216061 │\n",
       "│ 25  │ United States          │ 0.000352085 │ 0.000353979 │ 0.000310641 │"
      ]
     },
     "execution_count": 3,
     "metadata": {},
     "output_type": "execute_result"
    }
   ],
   "source": [
    "S500 = CSV.read(\"experiments/S500/output_table.csv\")"
   ]
  },
  {
   "cell_type": "code",
   "execution_count": 4,
   "metadata": {
    "scrolled": true
   },
   "outputs": [
    {
     "data": {
      "text/plain": [
       "25-element Array{Float64,1}:\n",
       " 0.0855231\n",
       " 3.0712   \n",
       " 3.6662   \n",
       " 0.495451 \n",
       " 0.211047 \n",
       " 0.102509 \n",
       " 1.4067   \n",
       " 1.53641  \n",
       " 0.624801 \n",
       " 0.0380289\n",
       " 0.454503 \n",
       " 0.0853378\n",
       " 5.47894  \n",
       " 0.559999 \n",
       " 0.405837 \n",
       " 0.631101 \n",
       " 0.430868 \n",
       " 0.34605  \n",
       " 0.425035 \n",
       " 0.266343 \n",
       " 0.0614195\n",
       " 0.0072886\n",
       " 0.030302 \n",
       " 0.792602 \n",
       " 0.572097 "
      ]
     },
     "execution_count": 4,
     "metadata": {},
     "output_type": "execute_result"
    }
   ],
   "source": [
    "percentage_absolute_difference = 100*abs.(S100[:actual] .- S500[:actual]) ./ S100[:actual]"
   ]
  },
  {
   "cell_type": "code",
   "execution_count": 5,
   "metadata": {},
   "outputs": [
    {
     "data": {
      "text/plain": [
       "0.8714241417617249"
      ]
     },
     "execution_count": 5,
     "metadata": {},
     "output_type": "execute_result"
    }
   ],
   "source": [
    "mean(percentage_absolute_difference)"
   ]
  },
  {
   "cell_type": "code",
   "execution_count": null,
   "metadata": {},
   "outputs": [],
   "source": []
  },
  {
   "cell_type": "code",
   "execution_count": null,
   "metadata": {},
   "outputs": [],
   "source": []
  }
 ],
 "metadata": {
  "kernelspec": {
   "display_name": "Julia 0.6.3",
   "language": "julia",
   "name": "julia-0.6"
  },
  "language_info": {
   "file_extension": ".jl",
   "mimetype": "application/julia",
   "name": "julia",
   "version": "0.6.3"
  }
 },
 "nbformat": 4,
 "nbformat_minor": 2
}
