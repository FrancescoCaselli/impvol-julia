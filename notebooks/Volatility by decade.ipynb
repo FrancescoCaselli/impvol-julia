{
 "cells": [
  {
   "cell_type": "code",
   "execution_count": 1,
   "metadata": {},
   "outputs": [
    {
     "data": {
      "text/plain": [
       "1×25×1×36 Array{Float64,4}:\n",
       "[:, :, 1, 1] =\n",
       " 63855.7  31864.1  38824.1  95853.6  …  37377.2  2.04764e5  1.13267e6\n",
       "\n",
       "[:, :, 1, 2] =\n",
       " 66268.0  31200.5  41837.8  1.04521e5  …  38398.4  2.13385e5  1.20157e6\n",
       "\n",
       "[:, :, 1, 3] =\n",
       " 63178.7  32255.5  41129.6  1.11434e5  …  40167.5  2.07574e5  1.18479e6\n",
       "\n",
       "...\n",
       "\n",
       "[:, :, 1, 34] =\n",
       " 1.58892e5  69357.0  86544.0  268267.0  …  74405.3  4.81181e5  3.17756e6\n",
       "\n",
       "[:, :, 1, 35] =\n",
       " 1.7897e5  77431.3  90752.4  2.99321e5  …  83274.9  5.32559e5  3.46775e6\n",
       "\n",
       "[:, :, 1, 36] =\n",
       " 2.04374e5  88861.0  1.04261e5  3.6746e5  …  94962.5  6.19506e5  3.89584e6"
      ]
     },
     "execution_count": 1,
     "metadata": {},
     "output_type": "execute_result"
    },
    {
     "name": "stderr",
     "output_type": "stream",
     "text": [
      "WARNING: Method definition warn(Any...) in module Base at util.jl:589 overwritten in module Logging at /Users/koren/.julia/v0.6/Logging/src/Logging.jl:115.\n",
      "WARNING: Method definition info(Any...) in module Base at util.jl:534 overwritten in module Logging at /Users/koren/.julia/v0.6/Logging/src/Logging.jl:115.\n"
     ]
    }
   ],
   "source": [
    "include(\"output.jl\")\n",
    "using ImpvolOutput, FileIO\n",
    "results = load(\"experiments/baseline/actual/results.jld2\")[\"results\"]\n",
    "parameters = load(\"experiments/baseline/common_parameters.jld2\")[\"parameters\"]\n",
    "real_GDP_model = sum(ImpvolOutput.make_series(results, :real_GDP), 3)"
   ]
  },
  {
   "cell_type": "code",
   "execution_count": null,
   "metadata": {},
   "outputs": [],
   "source": []
  },
  {
   "cell_type": "code",
   "execution_count": 2,
   "metadata": {},
   "outputs": [
    {
     "data": {
      "text/plain": [
       "4-element Array{String,1}:\n",
       " \"actual\"              \n",
       " \"kappa1972\"           \n",
       " \"nosectoral\"          \n",
       " \"nosectoral_kappa1972\""
      ]
     },
     "execution_count": 2,
     "metadata": {},
     "output_type": "execute_result"
    }
   ],
   "source": [
    "rows = [(\"1970s\", 1:8), (\"1980s\", 9:18), (\"1990s\", 19:28), (\"2000s\", 28:36)]\n",
    "columns = [\"actual\", \"kappa1972\", \"nosectoral\", \"nosectoral_kappa1972\"]"
   ]
  },
  {
   "cell_type": "code",
   "execution_count": 3,
   "metadata": {},
   "outputs": [
    {
     "data": {
      "text/plain": [
       "get_volatility (generic function with 1 method)"
      ]
     },
     "execution_count": 3,
     "metadata": {},
     "output_type": "execute_result"
    }
   ],
   "source": [
    "function get_volatility(rows, column)\n",
    "    results = load(\"experiments/baseline/$(column)/results.jld2\")[\"results\"]\n",
    "    real_GDP_model = sum(ImpvolOutput.make_series(results, :real_GDP), 3)\n",
    "    return [mean(ImpvolOutput.calculate_volatilities(real_GDP_model, parameters, true, row[2])) for row in rows]\n",
    "end"
   ]
  },
  {
   "cell_type": "code",
   "execution_count": 4,
   "metadata": {},
   "outputs": [],
   "source": [
    "using DataFrames\n",
    "volatility = DataFrame()\n",
    "volatility[:decades] = [row[1] for row in rows]\n",
    "for column in columns\n",
    "    volatility[Symbol(column)] = get_volatility(rows, column)\n",
    "end\n"
   ]
  },
  {
   "cell_type": "code",
   "execution_count": 5,
   "metadata": {},
   "outputs": [
    {
     "data": {
      "text/html": [
       "<table class=\"data-frame\"><thead><tr><th></th><th>decades</th><th>actual</th><th>kappa1972</th><th>nosectoral</th><th>nosectoral_kappa1972</th></tr></thead><tbody><tr><th>1</th><td>1970s</td><td>0.000844001</td><td>0.000881151</td><td>0.00112046</td><td>0.00123903</td></tr><tr><th>2</th><td>1980s</td><td>0.00103177</td><td>0.00117726</td><td>0.00117976</td><td>0.00156798</td></tr><tr><th>3</th><td>1990s</td><td>0.00101973</td><td>0.00154694</td><td>0.00157059</td><td>0.0024906</td></tr><tr><th>4</th><td>2000s</td><td>0.00099393</td><td>0.00179611</td><td>0.00133817</td><td>0.00226184</td></tr></tbody></table>"
      ],
      "text/plain": [
       "4×5 DataFrames.DataFrame. Omitted printing of 1 columns\n",
       "│ Row │ decades │ actual      │ kappa1972   │ nosectoral │\n",
       "├─────┼─────────┼─────────────┼─────────────┼────────────┤\n",
       "│ 1   │ 1970s   │ 0.000844001 │ 0.000881151 │ 0.00112046 │\n",
       "│ 2   │ 1980s   │ 0.00103177  │ 0.00117726  │ 0.00117976 │\n",
       "│ 3   │ 1990s   │ 0.00101973  │ 0.00154694  │ 0.00157059 │\n",
       "│ 4   │ 2000s   │ 0.00099393  │ 0.00179611  │ 0.00133817 │"
      ]
     },
     "execution_count": 5,
     "metadata": {},
     "output_type": "execute_result"
    }
   ],
   "source": [
    "volatility"
   ]
  },
  {
   "cell_type": "code",
   "execution_count": 6,
   "metadata": {},
   "outputs": [
    {
     "data": {
      "text/plain": [
       "4-element Array{Float64,1}:\n",
       "  9.23955\n",
       " 20.6189 \n",
       " 25.3917 \n",
       "  6.76371"
      ]
     },
     "execution_count": 6,
     "metadata": {},
     "output_type": "execute_result"
    }
   ],
   "source": [
    "stats = volatility\n",
    "stats[:trade_barriers] = 100 * (stats[:actual] - stats[:kappa1972]) ./ stats[:kappa1972]\n",
    "stats[:diversification] = 100 * (stats[:nosectoral] - stats[:nosectoral_kappa1972]) ./ stats[:kappa1972]\n",
    "stats[:specialization] = 100 * (stats[:actual] - stats[:kappa1972] - stats[:nosectoral] + stats[:nosectoral_kappa1972]) ./ stats[:kappa1972]\n"
   ]
  },
  {
   "cell_type": "code",
   "execution_count": 7,
   "metadata": {},
   "outputs": [],
   "source": [
    "for col in columns\n",
    "    delete!(volatility, Symbol(col))\n",
    "end"
   ]
  },
  {
   "cell_type": "code",
   "execution_count": 8,
   "metadata": {},
   "outputs": [
    {
     "data": {
      "text/plain": [
       "CSV.Sink{Void,DataType}(    CSV.Options:\n",
       "        delim: ','\n",
       "        quotechar: '\"'\n",
       "        escapechar: '\\\\'\n",
       "        missingstring: \"\"\n",
       "        dateformat: nothing\n",
       "        decimal: '.'\n",
       "        truestring: 'true'\n",
       "        falsestring: 'false'\n",
       "        internstrings: true, IOBuffer(data=UInt8[...], readable=true, writable=true, seekable=true, append=false, size=0, maxsize=Inf, ptr=1, mark=-1), \"volatility_by_decade.csv\", 54, true, String[\"decades\", \"trade_barriers\", \"diversification\", \"specialization\"], 4, false, Val{false})"
      ]
     },
     "execution_count": 8,
     "metadata": {},
     "output_type": "execute_result"
    }
   ],
   "source": [
    "using CSV\n",
    "CSV.write(\"volatility_by_decade.csv\", volatility)"
   ]
  },
  {
   "cell_type": "code",
   "execution_count": null,
   "metadata": {},
   "outputs": [],
   "source": []
  }
 ],
 "metadata": {
  "kernelspec": {
   "display_name": "Julia 0.6.3",
   "language": "julia",
   "name": "julia-0.6"
  },
  "language_info": {
   "file_extension": ".jl",
   "mimetype": "application/julia",
   "name": "julia",
   "version": "0.6.3"
  }
 },
 "nbformat": 4,
 "nbformat_minor": 2
}
