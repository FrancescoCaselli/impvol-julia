{
 "cells": [
  {
   "cell_type": "code",
   "execution_count": 2,
   "metadata": {},
   "outputs": [],
   "source": [
    "using CSV"
   ]
  },
  {
   "cell_type": "code",
   "execution_count": 3,
   "metadata": {
    "scrolled": true
   },
   "outputs": [
    {
     "data": {
      "text/html": [
       "<table class=\"data-frame\"><thead><tr><th></th><th>country_names</th><th>actual</th><th>kappa1972</th><th>nosectoral</th><th>nosectoral_kappa1972</th><th>trade_barriers</th><th>diversification</th><th>specialization</th></tr></thead><tbody><tr><th>1</th><td>Australia</td><td>0.0010288</td><td>0.00101126</td><td>0.00100893</td><td>0.00103641</td><td>1.73391</td><td>-2.71727</td><td>4.45117</td></tr><tr><th>2</th><td>Austria</td><td>0.000431979</td><td>0.000716237</td><td>0.000609585</td><td>0.00105862</td><td>-39.6878</td><td>-62.6942</td><td>23.0064</td></tr><tr><th>3</th><td>Belgium and Luxembourg</td><td>0.000981552</td><td>0.00198373</td><td>0.000796053</td><td>0.00306977</td><td>-50.5198</td><td>-114.618</td><td>64.0987</td></tr><tr><th>4</th><td>Canada</td><td>0.000580988</td><td>0.00145703</td><td>0.000868718</td><td>0.0021349</td><td>-60.1251</td><td>-86.9015</td><td>26.7764</td></tr><tr><th>5</th><td>China</td><td>0.00640345</td><td>0.0063092</td><td>0.00730493</td><td>0.00728035</td><td>1.49387</td><td>0.38961</td><td>1.10426</td></tr><tr><th>6</th><td>Colombia</td><td>0.00117012</td><td>0.00148642</td><td>0.00177962</td><td>0.00225353</td><td>-21.2795</td><td>-31.8827</td><td>10.6032</td></tr><tr><th>7</th><td>Denmark</td><td>0.000624855</td><td>0.00173613</td><td>0.000339259</td><td>0.00115292</td><td>-64.0087</td><td>-46.8665</td><td>-17.1422</td></tr><tr><th>8</th><td>Finland</td><td>0.000727381</td><td>0.000968536</td><td>0.000890323</td><td>0.00148114</td><td>-24.8989</td><td>-61.0013</td><td>36.1024</td></tr><tr><th>9</th><td>France</td><td>0.000302813</td><td>0.000360796</td><td>0.000254627</td><td>0.000234032</td><td>-16.0709</td><td>5.70819</td><td>-21.779</td></tr><tr><th>10</th><td>Germany</td><td>0.000344281</td><td>0.000476692</td><td>0.000261238</td><td>0.000395955</td><td>-27.7769</td><td>-28.2608</td><td>0.483905</td></tr><tr><th>11</th><td>Greece</td><td>0.000328165</td><td>0.000352451</td><td>0.000439579</td><td>0.000468349</td><td>-6.89072</td><td>-8.16287</td><td>1.27215</td></tr><tr><th>12</th><td>India</td><td>0.00110798</td><td>0.00124749</td><td>0.000998089</td><td>0.00112459</td><td>-11.183</td><td>-10.1406</td><td>-1.0424</td></tr><tr><th>13</th><td>Ireland</td><td>0.00113786</td><td>0.00286229</td><td>0.00197322</td><td>0.00384052</td><td>-60.2465</td><td>-65.238</td><td>4.99156</td></tr><tr><th>14</th><td>Italy</td><td>0.000277684</td><td>0.000325791</td><td>0.000148581</td><td>0.000135767</td><td>-14.7662</td><td>3.93312</td><td>-18.6993</td></tr><tr><th>15</th><td>Japan</td><td>0.000358506</td><td>0.000361485</td><td>0.000221533</td><td>0.000214299</td><td>-0.824138</td><td>2.00127</td><td>-2.82541</td></tr><tr><th>16</th><td>Mexico</td><td>0.00105359</td><td>0.002192</td><td>0.00433071</td><td>0.00641579</td><td>-51.9349</td><td>-95.1224</td><td>43.1875</td></tr><tr><th>17</th><td>Netherlands</td><td>0.000445274</td><td>0.000829921</td><td>0.000604629</td><td>0.00175228</td><td>-46.3474</td><td>-138.285</td><td>91.9373</td></tr><tr><th>18</th><td>Norway</td><td>0.000980908</td><td>0.00141272</td><td>0.00183238</td><td>0.00293391</td><td>-30.5658</td><td>-77.9728</td><td>47.407</td></tr><tr><th>19</th><td>Portugal</td><td>0.00153989</td><td>0.00148589</td><td>0.00171066</td><td>0.00224608</td><td>3.63451</td><td>-36.0335</td><td>39.668</td></tr><tr><th>20</th><td>ROW</td><td>0.0017662</td><td>0.00175525</td><td>0.00226846</td><td>0.00231361</td><td>0.623654</td><td>-2.57211</td><td>3.19576</td></tr><tr><th>21</th><td>South Korea</td><td>0.000897092</td><td>0.000979358</td><td>0.000700766</td><td>0.000885697</td><td>-8.39992</td><td>-18.8829</td><td>10.483</td></tr><tr><th>22</th><td>Spain</td><td>0.000315144</td><td>0.000692532</td><td>0.000271367</td><td>0.000451925</td><td>-54.4939</td><td>-26.0722</td><td>-28.4217</td></tr><tr><th>23</th><td>Sweden</td><td>0.00040927</td><td>0.000628749</td><td>0.000420488</td><td>0.000660086</td><td>-34.9073</td><td>-38.1071</td><td>3.19982</td></tr><tr><th>24</th><td>United Kingdom</td><td>0.000292639</td><td>0.000520332</td><td>0.000215567</td><td>0.000359891</td><td>-43.7592</td><td>-27.7369</td><td>-16.0223</td></tr><tr><th>25</th><td>United States</td><td>0.000351424</td><td>0.000353036</td><td>0.000311615</td><td>0.000303574</td><td>-0.456716</td><td>2.27753</td><td>-2.73424</td></tr></tbody></table>"
      ],
      "text/plain": [
       "25×8 DataFrames.DataFrame. Omitted printing of 4 columns\n",
       "│ Row │ country_names          │ actual      │ kappa1972   │ nosectoral  │\n",
       "├─────┼────────────────────────┼─────────────┼─────────────┼─────────────┤\n",
       "│ 1   │ Australia              │ 0.0010288   │ 0.00101126  │ 0.00100893  │\n",
       "│ 2   │ Austria                │ 0.000431979 │ 0.000716237 │ 0.000609585 │\n",
       "│ 3   │ Belgium and Luxembourg │ 0.000981552 │ 0.00198373  │ 0.000796053 │\n",
       "│ 4   │ Canada                 │ 0.000580988 │ 0.00145703  │ 0.000868718 │\n",
       "│ 5   │ China                  │ 0.00640345  │ 0.0063092   │ 0.00730493  │\n",
       "│ 6   │ Colombia               │ 0.00117012  │ 0.00148642  │ 0.00177962  │\n",
       "│ 7   │ Denmark                │ 0.000624855 │ 0.00173613  │ 0.000339259 │\n",
       "│ 8   │ Finland                │ 0.000727381 │ 0.000968536 │ 0.000890323 │\n",
       "│ 9   │ France                 │ 0.000302813 │ 0.000360796 │ 0.000254627 │\n",
       "│ 10  │ Germany                │ 0.000344281 │ 0.000476692 │ 0.000261238 │\n",
       "│ 11  │ Greece                 │ 0.000328165 │ 0.000352451 │ 0.000439579 │\n",
       "│ 12  │ India                  │ 0.00110798  │ 0.00124749  │ 0.000998089 │\n",
       "│ 13  │ Ireland                │ 0.00113786  │ 0.00286229  │ 0.00197322  │\n",
       "│ 14  │ Italy                  │ 0.000277684 │ 0.000325791 │ 0.000148581 │\n",
       "│ 15  │ Japan                  │ 0.000358506 │ 0.000361485 │ 0.000221533 │\n",
       "│ 16  │ Mexico                 │ 0.00105359  │ 0.002192    │ 0.00433071  │\n",
       "│ 17  │ Netherlands            │ 0.000445274 │ 0.000829921 │ 0.000604629 │\n",
       "│ 18  │ Norway                 │ 0.000980908 │ 0.00141272  │ 0.00183238  │\n",
       "│ 19  │ Portugal               │ 0.00153989  │ 0.00148589  │ 0.00171066  │\n",
       "│ 20  │ ROW                    │ 0.0017662   │ 0.00175525  │ 0.00226846  │\n",
       "│ 21  │ South Korea            │ 0.000897092 │ 0.000979358 │ 0.000700766 │\n",
       "│ 22  │ Spain                  │ 0.000315144 │ 0.000692532 │ 0.000271367 │\n",
       "│ 23  │ Sweden                 │ 0.00040927  │ 0.000628749 │ 0.000420488 │\n",
       "│ 24  │ United Kingdom         │ 0.000292639 │ 0.000520332 │ 0.000215567 │\n",
       "│ 25  │ United States          │ 0.000351424 │ 0.000353036 │ 0.000311615 │"
      ]
     },
     "execution_count": 3,
     "metadata": {},
     "output_type": "execute_result"
    }
   ],
   "source": [
    "S100 = CSV.read(\"experiments/baseline/output_table.csv\")"
   ]
  },
  {
   "cell_type": "code",
   "execution_count": 4,
   "metadata": {
    "scrolled": true
   },
   "outputs": [
    {
     "data": {
      "text/html": [
       "<table class=\"data-frame\"><thead><tr><th></th><th>country_names</th><th>actual</th><th>kappa1972</th><th>nosectoral</th><th>nosectoral_kappa1972</th><th>trade_barriers</th><th>diversification</th><th>specialization</th></tr></thead><tbody><tr><th>1</th><td>Australia</td><td>0.00102641</td><td>0.00101149</td><td>0.00100813</td><td>0.00103222</td><td>1.47481</td><td>-2.38151</td><td>3.85632</td></tr><tr><th>2</th><td>Austria</td><td>0.000442543</td><td>0.000723594</td><td>0.000610656</td><td>0.00105601</td><td>-38.841</td><td>-61.5469</td><td>22.7059</td></tr><tr><th>3</th><td>Belgium and Luxembourg</td><td>0.000908431</td><td>0.00200047</td><td>0.000806606</td><td>0.00307889</td><td>-54.589</td><td>-113.588</td><td>58.9989</td></tr><tr><th>4</th><td>Canada</td><td>0.000578889</td><td>0.00146117</td><td>0.000867266</td><td>0.00213476</td><td>-60.3819</td><td>-86.7448</td><td>26.3628</td></tr><tr><th>5</th><td>China</td><td>0.00637033</td><td>0.00629581</td><td>0.00729689</td><td>0.00726878</td><td>1.18367</td><td>0.446396</td><td>0.737278</td></tr><tr><th>6</th><td>Colombia</td><td>0.00116738</td><td>0.00149358</td><td>0.00177221</td><td>0.00223942</td><td>-21.8405</td><td>-31.2811</td><td>9.44058</td></tr><tr><th>7</th><td>Denmark</td><td>0.00060858</td><td>0.00176769</td><td>0.000339283</td><td>0.00114805</td><td>-65.572</td><td>-45.7527</td><td>-19.8194</td></tr><tr><th>8</th><td>Finland</td><td>0.000736774</td><td>0.000969316</td><td>0.000894472</td><td>0.00147727</td><td>-23.9903</td><td>-60.1249</td><td>36.1346</td></tr><tr><th>9</th><td>France</td><td>0.000302563</td><td>0.000362124</td><td>0.000251779</td><td>0.000235379</td><td>-16.4477</td><td>4.52893</td><td>-20.9766</td></tr><tr><th>10</th><td>Germany</td><td>0.000342714</td><td>0.000476827</td><td>0.000259472</td><td>0.000397512</td><td>-28.1261</td><td>-28.9496</td><td>0.823501</td></tr><tr><th>11</th><td>Greece</td><td>0.000324611</td><td>0.000345386</td><td>0.000437758</td><td>0.000464465</td><td>-6.01514</td><td>-7.73244</td><td>1.7173</td></tr><tr><th>12</th><td>India</td><td>0.00111009</td><td>0.00124236</td><td>0.0010031</td><td>0.00114611</td><td>-10.647</td><td>-11.5112</td><td>0.864172</td></tr><tr><th>13</th><td>Ireland</td><td>0.00109036</td><td>0.00287322</td><td>0.00201213</td><td>0.00373578</td><td>-62.0511</td><td>-59.9905</td><td>-2.06051</td></tr><tr><th>14</th><td>Italy</td><td>0.000276965</td><td>0.000322987</td><td>0.000147156</td><td>0.000132878</td><td>-14.2489</td><td>4.42077</td><td>-18.6696</td></tr><tr><th>15</th><td>Japan</td><td>0.000358634</td><td>0.000357965</td><td>0.000219033</td><td>0.000219914</td><td>0.186902</td><td>-0.245987</td><td>0.432889</td></tr><tr><th>16</th><td>Mexico</td><td>0.00107622</td><td>0.00219945</td><td>0.00433891</td><td>0.00643342</td><td>-51.0688</td><td>-95.2287</td><td>44.16</td></tr><tr><th>17</th><td>Netherlands</td><td>0.000427031</td><td>0.000825752</td><td>0.000599286</td><td>0.0017705</td><td>-48.2858</td><td>-141.836</td><td>93.5502</td></tr><tr><th>18</th><td>Norway</td><td>0.000947265</td><td>0.0014136</td><td>0.00183644</td><td>0.00294036</td><td>-32.9894</td><td>-78.0924</td><td>45.103</td></tr><tr><th>19</th><td>Portugal</td><td>0.00154755</td><td>0.0014746</td><td>0.00172424</td><td>0.00219797</td><td>4.94685</td><td>-32.1258</td><td>37.0727</td></tr><tr><th>20</th><td>ROW</td><td>0.00175765</td><td>0.00176286</td><td>0.00226595</td><td>0.00229338</td><td>-0.295448</td><td>-1.55606</td><td>1.26061</td></tr><tr><th>21</th><td>South Korea</td><td>0.000902328</td><td>0.000963548</td><td>0.000717484</td><td>0.00087999</td><td>-6.3536</td><td>-16.8654</td><td>10.5118</td></tr><tr><th>22</th><td>Spain</td><td>0.000317065</td><td>0.000690941</td><td>0.000277101</td><td>0.0004537</td><td>-54.1111</td><td>-25.5592</td><td>-28.5519</td></tr><tr><th>23</th><td>Sweden</td><td>0.000415423</td><td>0.000627397</td><td>0.000426597</td><td>0.000662969</td><td>-33.7863</td><td>-37.6751</td><td>3.88875</td></tr><tr><th>24</th><td>United Kingdom</td><td>0.00029316</td><td>0.000517522</td><td>0.000216061</td><td>0.000358197</td><td>-43.3532</td><td>-27.4647</td><td>-15.8884</td></tr><tr><th>25</th><td>United States</td><td>0.000352085</td><td>0.000353979</td><td>0.000310641</td><td>0.000305413</td><td>-0.535299</td><td>1.4771</td><td>-2.0124</td></tr></tbody></table>"
      ],
      "text/plain": [
       "25×8 DataFrames.DataFrame. Omitted printing of 4 columns\n",
       "│ Row │ country_names          │ actual      │ kappa1972   │ nosectoral  │\n",
       "├─────┼────────────────────────┼─────────────┼─────────────┼─────────────┤\n",
       "│ 1   │ Australia              │ 0.00102641  │ 0.00101149  │ 0.00100813  │\n",
       "│ 2   │ Austria                │ 0.000442543 │ 0.000723594 │ 0.000610656 │\n",
       "│ 3   │ Belgium and Luxembourg │ 0.000908431 │ 0.00200047  │ 0.000806606 │\n",
       "│ 4   │ Canada                 │ 0.000578889 │ 0.00146117  │ 0.000867266 │\n",
       "│ 5   │ China                  │ 0.00637033  │ 0.00629581  │ 0.00729689  │\n",
       "│ 6   │ Colombia               │ 0.00116738  │ 0.00149358  │ 0.00177221  │\n",
       "│ 7   │ Denmark                │ 0.00060858  │ 0.00176769  │ 0.000339283 │\n",
       "│ 8   │ Finland                │ 0.000736774 │ 0.000969316 │ 0.000894472 │\n",
       "│ 9   │ France                 │ 0.000302563 │ 0.000362124 │ 0.000251779 │\n",
       "│ 10  │ Germany                │ 0.000342714 │ 0.000476827 │ 0.000259472 │\n",
       "│ 11  │ Greece                 │ 0.000324611 │ 0.000345386 │ 0.000437758 │\n",
       "│ 12  │ India                  │ 0.00111009  │ 0.00124236  │ 0.0010031   │\n",
       "│ 13  │ Ireland                │ 0.00109036  │ 0.00287322  │ 0.00201213  │\n",
       "│ 14  │ Italy                  │ 0.000276965 │ 0.000322987 │ 0.000147156 │\n",
       "│ 15  │ Japan                  │ 0.000358634 │ 0.000357965 │ 0.000219033 │\n",
       "│ 16  │ Mexico                 │ 0.00107622  │ 0.00219945  │ 0.00433891  │\n",
       "│ 17  │ Netherlands            │ 0.000427031 │ 0.000825752 │ 0.000599286 │\n",
       "│ 18  │ Norway                 │ 0.000947265 │ 0.0014136   │ 0.00183644  │\n",
       "│ 19  │ Portugal               │ 0.00154755  │ 0.0014746   │ 0.00172424  │\n",
       "│ 20  │ ROW                    │ 0.00175765  │ 0.00176286  │ 0.00226595  │\n",
       "│ 21  │ South Korea            │ 0.000902328 │ 0.000963548 │ 0.000717484 │\n",
       "│ 22  │ Spain                  │ 0.000317065 │ 0.000690941 │ 0.000277101 │\n",
       "│ 23  │ Sweden                 │ 0.000415423 │ 0.000627397 │ 0.000426597 │\n",
       "│ 24  │ United Kingdom         │ 0.00029316  │ 0.000517522 │ 0.000216061 │\n",
       "│ 25  │ United States          │ 0.000352085 │ 0.000353979 │ 0.000310641 │"
      ]
     },
     "execution_count": 4,
     "metadata": {},
     "output_type": "execute_result"
    }
   ],
   "source": [
    "S500 = CSV.read(\"experiments/S500/output_table.csv\")"
   ]
  },
  {
   "cell_type": "code",
   "execution_count": 5,
   "metadata": {
    "scrolled": true
   },
   "outputs": [
    {
     "data": {
      "text/plain": [
       "25-element Array{Float64,1}:\n",
       " 0.232195 \n",
       " 2.4455   \n",
       " 7.4495   \n",
       " 0.361293 \n",
       " 0.517265 \n",
       " 0.234269 \n",
       " 2.6047   \n",
       " 1.29127  \n",
       " 0.0825213\n",
       " 0.455192 \n",
       " 1.08294  \n",
       " 0.189763 \n",
       " 4.17503  \n",
       " 0.258805 \n",
       " 0.0356308\n",
       " 2.14807  \n",
       " 4.09707  \n",
       " 3.42984  \n",
       " 0.497174 \n",
       " 0.483961 \n",
       " 0.583633 \n",
       " 0.609561 \n",
       " 1.50341  \n",
       " 0.17802  \n",
       " 0.188034 "
      ]
     },
     "execution_count": 5,
     "metadata": {},
     "output_type": "execute_result"
    }
   ],
   "source": [
    "percentage_absolute_difference = 100*abs.(S100[:actual] .- S500[:actual]) ./ S100[:actual]"
   ]
  },
  {
   "cell_type": "code",
   "execution_count": 6,
   "metadata": {},
   "outputs": [
    {
     "data": {
      "text/plain": [
       "1.4053859302239664"
      ]
     },
     "execution_count": 6,
     "metadata": {},
     "output_type": "execute_result"
    }
   ],
   "source": [
    "mean(percentage_absolute_difference)"
   ]
  },
  {
   "cell_type": "code",
   "execution_count": null,
   "metadata": {},
   "outputs": [],
   "source": []
  },
  {
   "cell_type": "code",
   "execution_count": null,
   "metadata": {},
   "outputs": [],
   "source": []
  }
 ],
 "metadata": {
  "kernelspec": {
   "display_name": "Julia 0.6.3",
   "language": "julia",
   "name": "julia-0.6"
  },
  "language_info": {
   "file_extension": ".jl",
   "mimetype": "application/julia",
   "name": "julia",
   "version": "0.6.3"
  }
 },
 "nbformat": 4,
 "nbformat_minor": 2
}
