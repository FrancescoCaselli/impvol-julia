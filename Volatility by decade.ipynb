{
 "cells": [
  {
   "cell_type": "code",
   "execution_count": 52,
   "metadata": {},
   "outputs": [
    {
     "data": {
      "text/plain": [
       "1×25×1×36 Array{Float64,4}:\n",
       "[:, :, 1, 1] =\n",
       " 63700.1  31695.2  38767.1  95719.1  84178.5  …  37380.8  2.04417e5  1.1344e6\n",
       "\n",
       "[:, :, 1, 2] =\n",
       " 66184.4  31045.7  41771.9  1.04381e5  …  38399.1  2.12957e5  1.20329e6\n",
       "\n",
       "[:, :, 1, 3] =\n",
       " 63191.3  32109.3  41214.8  1.1136e5  …  40223.0  2.07181e5  1.18642e6\n",
       "\n",
       "...\n",
       "\n",
       "[:, :, 1, 34] =\n",
       " 1.58823e5  69293.3  86448.8  2.68306e5  …  74550.2  4.81456e5  3.18149e6\n",
       "\n",
       "[:, :, 1, 35] =\n",
       " 1.78912e5  77441.2  91095.8  2.99213e5  …  83378.5  5.32883e5  3.47121e6\n",
       "\n",
       "[:, :, 1, 36] =\n",
       " 204441.0  88875.2  1.04067e5  367965.0  …  94990.8  6.19673e5  3.89651e6"
      ]
     },
     "execution_count": 52,
     "metadata": {},
     "output_type": "execute_result"
    },
    {
     "name": "stderr",
     "output_type": "stream",
     "text": [
      "WARNING: replacing module ImpvolOutput\n"
     ]
    }
   ],
   "source": [
    "include(\"output.jl\")\n",
    "using ImpvolOutput, FileIO\n",
    "results = load(\"experiments/baseline/actual/results.jld2\")[\"results\"]\n",
    "parameters = load(\"experiments/baseline/common_parameters.jld2\")[\"parameters\"]\n",
    "real_GDP_model = sum(ImpvolOutput.make_series(results, :real_GDP), 3)"
   ]
  },
  {
   "cell_type": "code",
   "execution_count": 2,
   "metadata": {},
   "outputs": [
    {
     "data": {
      "text/plain": [
       "1×25×1×1 Array{Float64,4}:\n",
       "[:, :, 1, 1] =\n",
       " 0.000420877  0.000217465  0.000659812  …  0.000300208  0.000618529"
      ]
     },
     "execution_count": 2,
     "metadata": {},
     "output_type": "execute_result"
    }
   ],
   "source": [
    "volatility1970 = ImpvolOutput.calculate_volatilities(real_GDP_model, parameters, true, 1:8)"
   ]
  },
  {
   "cell_type": "code",
   "execution_count": 53,
   "metadata": {},
   "outputs": [
    {
     "data": {
      "text/plain": [
       "4-element Array{String,1}:\n",
       " \"actual\"              \n",
       " \"kappa1972\"           \n",
       " \"nosectoral\"          \n",
       " \"nosectoral_kappa1972\""
      ]
     },
     "execution_count": 53,
     "metadata": {},
     "output_type": "execute_result"
    }
   ],
   "source": [
    "rows = [(\"1970s\", 1:8), (\"1980s\", 9:18), (\"1990s\", 19:28), (\"2000s\", 28:36)]\n",
    "columns = [\"actual\", \"kappa1972\", \"nosectoral\", \"nosectoral_kappa1972\"]"
   ]
  },
  {
   "cell_type": "code",
   "execution_count": 54,
   "metadata": {},
   "outputs": [
    {
     "data": {
      "text/plain": [
       "get_volatility (generic function with 1 method)"
      ]
     },
     "execution_count": 54,
     "metadata": {},
     "output_type": "execute_result"
    }
   ],
   "source": [
    "function get_volatility(rows, column)\n",
    "    results = load(\"experiments/baseline/$(column)/results.jld2\")[\"results\"]\n",
    "    real_GDP_model = sum(ImpvolOutput.make_series(results, :real_GDP), 3)\n",
    "    return [mean(ImpvolOutput.calculate_volatilities(real_GDP_model, parameters, true, row[2])) for row in rows]\n",
    "end"
   ]
  },
  {
   "cell_type": "code",
   "execution_count": 55,
   "metadata": {},
   "outputs": [],
   "source": [
    "using DataFrames\n",
    "volatility = DataFrame()\n",
    "volatility[:decades] = [row[1] for row in rows]\n",
    "for column in columns\n",
    "    volatility[Symbol(column)] = get_volatility(rows, column)\n",
    "end\n"
   ]
  },
  {
   "cell_type": "code",
   "execution_count": 56,
   "metadata": {},
   "outputs": [
    {
     "data": {
      "text/html": [
       "<table class=\"data-frame\"><thead><tr><th></th><th>decades</th><th>actual</th><th>kappa1972</th><th>nosectoral</th><th>nosectoral_kappa1972</th></tr></thead><tbody><tr><th>1</th><td>1970s</td><td>0.000838944</td><td>0.000862658</td><td>0.00113311</td><td>0.00122769</td></tr><tr><th>2</th><td>1980s</td><td>0.00102563</td><td>0.00118439</td><td>0.001178</td><td>0.00156203</td></tr><tr><th>3</th><td>1990s</td><td>0.00100561</td><td>0.0015694</td><td>0.00157549</td><td>0.00248656</td></tr><tr><th>4</th><td>2000s</td><td>0.000987512</td><td>0.0018223</td><td>0.00133763</td><td>0.00226453</td></tr></tbody></table>"
      ],
      "text/plain": [
       "4×5 DataFrames.DataFrame. Omitted printing of 1 columns\n",
       "│ Row │ decades │ actual      │ kappa1972   │ nosectoral │\n",
       "├─────┼─────────┼─────────────┼─────────────┼────────────┤\n",
       "│ 1   │ 1970s   │ 0.000838944 │ 0.000862658 │ 0.00113311 │\n",
       "│ 2   │ 1980s   │ 0.00102563  │ 0.00118439  │ 0.001178   │\n",
       "│ 3   │ 1990s   │ 0.00100561  │ 0.0015694   │ 0.00157549 │\n",
       "│ 4   │ 2000s   │ 0.000987512 │ 0.0018223   │ 0.00133763 │"
      ]
     },
     "execution_count": 56,
     "metadata": {},
     "output_type": "execute_result"
    }
   ],
   "source": [
    "volatility"
   ]
  },
  {
   "cell_type": "code",
   "execution_count": 57,
   "metadata": {},
   "outputs": [
    {
     "data": {
      "text/plain": [
       "4-element Array{Float64,1}:\n",
       "  8.21461\n",
       " 19.019  \n",
       " 22.1283 \n",
       "  5.05504"
      ]
     },
     "execution_count": 57,
     "metadata": {},
     "output_type": "execute_result"
    }
   ],
   "source": [
    "stats = volatility\n",
    "stats[:trade_barriers] = 100 * (stats[:actual] - stats[:kappa1972]) ./ stats[:kappa1972]\n",
    "stats[:diversification] = 100 * (stats[:nosectoral] - stats[:nosectoral_kappa1972]) ./ stats[:kappa1972]\n",
    "stats[:specialization] = 100 * (stats[:actual] - stats[:kappa1972] - stats[:nosectoral] + stats[:nosectoral_kappa1972]) ./ stats[:kappa1972]\n"
   ]
  },
  {
   "cell_type": "code",
   "execution_count": 58,
   "metadata": {},
   "outputs": [],
   "source": [
    "for col in columns\n",
    "    delete!(volatility, Symbol(col))\n",
    "end"
   ]
  },
  {
   "cell_type": "code",
   "execution_count": 59,
   "metadata": {},
   "outputs": [
    {
     "data": {
      "text/plain": [
       "CSV.Sink{Void,DataType}(    CSV.Options:\n",
       "        delim: ','\n",
       "        quotechar: '\"'\n",
       "        escapechar: '\\\\'\n",
       "        missingstring: \"\"\n",
       "        dateformat: nothing\n",
       "        decimal: '.'\n",
       "        truestring: 'true'\n",
       "        falsestring: 'false'\n",
       "        internstrings: true, IOBuffer(data=UInt8[...], readable=true, writable=true, seekable=true, append=false, size=0, maxsize=Inf, ptr=1, mark=-1), \"volatility_by_decade.csv\", 54, true, String[\"decades\", \"trade_barriers\", \"diversification\", \"specialization\"], 4, false, Val{false})"
      ]
     },
     "execution_count": 59,
     "metadata": {},
     "output_type": "execute_result"
    }
   ],
   "source": [
    "using CSV\n",
    "CSV.write(\"volatility_by_decade.csv\", volatility)"
   ]
  },
  {
   "cell_type": "code",
   "execution_count": null,
   "metadata": {},
   "outputs": [],
   "source": []
  }
 ],
 "metadata": {
  "kernelspec": {
   "display_name": "Julia 0.6.3",
   "language": "julia",
   "name": "julia-0.6"
  },
  "language_info": {
   "file_extension": ".jl",
   "mimetype": "application/julia",
   "name": "julia",
   "version": "0.6.3"
  }
 },
 "nbformat": 4,
 "nbformat_minor": 2
}
